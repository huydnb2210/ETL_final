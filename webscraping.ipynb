{
 "cells": [
  {
   "cell_type": "markdown",
   "id": "2a7931c7-e3f7-423b-b462-81c3a6fd11ec",
   "metadata": {},
   "source": [
    "## Use web scraping to get bank information"
   ]
  },
  {
   "cell_type": "code",
   "execution_count": 1,
   "id": "4a6ef93c-7566-43c0-86f9-e0b9a98cb548",
   "metadata": {},
   "outputs": [],
   "source": [
    "#Install Python libraries required for web scraping (Optional if your lab environment don't have)\n",
    "#!pip install pandas\n",
    "#!pip install bs4\n",
    "#!pip install request"
   ]
  },
  {
   "cell_type": "markdown",
   "id": "348f3948-4636-466f-80b6-386d9c4065da",
   "metadata": {},
   "source": [
    "## Import"
   ]
  },
  {
   "cell_type": "code",
   "execution_count": 2,
   "id": "cf4601e2-da2a-4f1d-ad93-75e187de99d8",
   "metadata": {},
   "outputs": [],
   "source": [
    "#Import libraries for web scraping\n",
    "import pandas as pd\n",
    "from bs4 import BeautifulSoup\n",
    "import requests"
   ]
  },
  {
   "cell_type": "markdown",
   "id": "b98de9ce-ccce-4959-917c-f7ef3c2cfb47",
   "metadata": {},
   "source": [
    "## Extract data using web scraping\n",
    "Using the wikipedia webpage https://en.wikipedia.org/wiki/List_of_largest_banks and scrape the data from table \"By market capitalization\", store it in a JSON file"
   ]
  },
  {
   "cell_type": "code",
   "execution_count": 5,
   "id": "86ce7270-8d6d-43f1-90c7-e85fe8daa86a",
   "metadata": {},
   "outputs": [],
   "source": [
    "url = \" https://en.wikipedia.org/wiki/List_of_largest_banks\"\n",
    "html_data = requests.get(url).text"
   ]
  },
  {
   "cell_type": "code",
   "execution_count": 6,
   "id": "371aef7b-1eb2-4366-9674-664aa85ff84f",
   "metadata": {},
   "outputs": [],
   "source": [
    "#html_data[101:124]"
   ]
  },
  {
   "cell_type": "code",
   "execution_count": 7,
   "id": "1942b6c8-c928-40ae-9cb8-5e6e6a4d0487",
   "metadata": {},
   "outputs": [],
   "source": [
    "soup = BeautifulSoup(html_data, \"html5lib\")"
   ]
  },
  {
   "cell_type": "code",
   "execution_count": 13,
   "id": "2b87b71d-b220-408f-98c7-5bf30ca59b7d",
   "metadata": {},
   "outputs": [
    {
     "data": {
      "text/html": [
       "<div>\n",
       "<style scoped>\n",
       "    .dataframe tbody tr th:only-of-type {\n",
       "        vertical-align: middle;\n",
       "    }\n",
       "\n",
       "    .dataframe tbody tr th {\n",
       "        vertical-align: top;\n",
       "    }\n",
       "\n",
       "    .dataframe thead th {\n",
       "        text-align: right;\n",
       "    }\n",
       "</style>\n",
       "<table border=\"1\" class=\"dataframe\">\n",
       "  <thead>\n",
       "    <tr style=\"text-align: right;\">\n",
       "      <th></th>\n",
       "      <th>Name</th>\n",
       "      <th>Market Cap (US$ Billion)</th>\n",
       "    </tr>\n",
       "  </thead>\n",
       "  <tbody>\n",
       "    <tr>\n",
       "      <th>0</th>\n",
       "      <td>JPMorgan Chase</td>\n",
       "      <td>499.400</td>\n",
       "    </tr>\n",
       "    <tr>\n",
       "      <th>1</th>\n",
       "      <td>Bank of America</td>\n",
       "      <td>362.500</td>\n",
       "    </tr>\n",
       "    <tr>\n",
       "      <th>2</th>\n",
       "      <td>Industrial and Commercial Bank of China</td>\n",
       "      <td>342.700</td>\n",
       "    </tr>\n",
       "    <tr>\n",
       "      <th>3</th>\n",
       "      <td>Wells Fargo</td>\n",
       "      <td>308.013</td>\n",
       "    </tr>\n",
       "    <tr>\n",
       "      <th>4</th>\n",
       "      <td>China Construction Bank</td>\n",
       "      <td>257.399</td>\n",
       "    </tr>\n",
       "  </tbody>\n",
       "</table>\n",
       "</div>"
      ],
      "text/plain": [
       "                                      Name Market Cap (US$ Billion)\n",
       "0                           JPMorgan Chase                  499.400\n",
       "1                          Bank of America                  362.500\n",
       "2  Industrial and Commercial Bank of China                  342.700\n",
       "3                              Wells Fargo                  308.013\n",
       "4                  China Construction Bank                  257.399"
      ]
     },
     "execution_count": 13,
     "metadata": {},
     "output_type": "execute_result"
    }
   ],
   "source": [
    "data = pd.DataFrame(columns=[\"Name\", \"Market Cap (US$ Billion)\"])\n",
    "\n",
    "for row in soup.find_all('tbody')[3].find_all('tr'):\n",
    "    col = row.find_all('td')\n",
    "    if (col != []):\n",
    "        name = col[1].text.strip()\n",
    "        market_cap = col[2].text.strip()\n",
    "        data = data.append({\"Name\": name, \"Market Cap (US$ Billion)\": market_cap}, ignore_index= True)\n",
    "data.head()"
   ]
  },
  {
   "cell_type": "code",
   "execution_count": 15,
   "id": "6681a5b9-d9f2-47d1-b7dd-9a95f3d72299",
   "metadata": {},
   "outputs": [
    {
     "name": "stdout",
     "output_type": "stream",
     "text": [
      "                                       Name Market Cap (US$ Billion)\n",
      "0                            JPMorgan Chase                  499.400\n",
      "1                           Bank of America                  362.500\n",
      "2   Industrial and Commercial Bank of China                  342.700\n",
      "3                               Wells Fargo                  308.013\n",
      "4                   China Construction Bank                  257.399\n",
      "..                                      ...                      ...\n",
      "65                             Ping An Bank                   37.993\n",
      "66                       Standard Chartered                   37.319\n",
      "67                     United Overseas Bank                   35.128\n",
      "68                                QNB Group                   33.560\n",
      "69                    Bank Rakyat Indonesia                   33.081\n",
      "\n",
      "[70 rows x 2 columns]\n"
     ]
    }
   ],
   "source": [
    "print(data)"
   ]
  },
  {
   "cell_type": "code",
   "execution_count": null,
   "id": "bd1191d6-c011-4717-8754-2f8d155500f4",
   "metadata": {},
   "outputs": [],
   "source": []
  }
 ],
 "metadata": {
  "kernelspec": {
   "display_name": "Python 3 (ipykernel)",
   "language": "python",
   "name": "python3"
  },
  "language_info": {
   "codemirror_mode": {
    "name": "ipython",
    "version": 3
   },
   "file_extension": ".py",
   "mimetype": "text/x-python",
   "name": "python",
   "nbconvert_exporter": "python",
   "pygments_lexer": "ipython3",
   "version": "3.8.7"
  }
 },
 "nbformat": 4,
 "nbformat_minor": 5
}
